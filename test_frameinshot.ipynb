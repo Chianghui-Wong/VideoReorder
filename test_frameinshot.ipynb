{
 "cells": [
  {
   "cell_type": "code",
   "execution_count": 4,
   "metadata": {},
   "outputs": [],
   "source": [
    "import numpy as np\n",
    "import torch\n",
    "import cv2\n",
    "import json\n",
    "from pathlib import Path\n",
    "from PIL import Image\n",
    "from typing import Any, Callable, Dict, List, Optional, Tuple, cast\n",
    "import os\n",
    "import random\n",
    "from utils import *\n",
    "import requests\n",
    "from transformers import CLIPProcessor, CLIPModel, AutoProcessor, AutoTokenizer\n",
    "from torch.utils.data import DataLoader, Dataset\n",
    "from tqdm import tqdm\n",
    "from torch import nn"
   ]
  },
  {
   "cell_type": "code",
   "execution_count": null,
   "metadata": {},
   "outputs": [],
   "source": [
    "device = torch.device('cuda' if torch.cuda.is_available() else 'cpu')\n",
    "os.environ['TOKENIZERS_PARALLELISM'] = 'true'"
   ]
  },
  {
   "cell_type": "code",
   "execution_count": null,
   "metadata": {},
   "outputs": [],
   "source": [
    "data_path = '/home/jianghui/dataset/VideoReorder-MovieNet'\n",
    "split = 'train'\n",
    "train_data = VideoReorderMovieNetDataFolder(root=data_path, split=split)\n",
    "train_dataloader = torch.utils.data.DataLoader(train_data, batch_size=128, shuffle=(split == 'train'), num_workers=8, pin_memory=True, collate_fn=lambda x: x)\n",
    "\n",
    "split = 'val'\n",
    "val_data = VideoReorderMovieNetDataFolder(root=data_path, split=split)\n",
    "val_dataloader = torch.utils.data.DataLoader(val_data, batch_size=128, shuffle=(split == 'train'), num_workers=8, pin_memory=True, collate_fn=lambda x: x)"
   ]
  },
  {
   "cell_type": "code",
   "execution_count": null,
   "metadata": {},
   "outputs": [],
   "source": [
    "net = nn.Sequential(\n",
    "    nn.Flatten(),\n",
    "    nn.Linear(1024, 1024),\n",
    "    nn.ReLU(),\n",
    "    nn.Linear(1024, 512)\n",
    ")\n",
    "\n",
    "def init_weights(m):\n",
    "    if type(m) == nn.Linear:\n",
    "        nn.init.normal_(m.weight, std=0.01)\n",
    "\n",
    "net.apply(init_weights)\n",
    "net.to(device)"
   ]
  },
  {
   "cell_type": "code",
   "execution_count": null,
   "metadata": {},
   "outputs": [],
   "source": [
    "# Loss 1\n",
    "lr = 1e-4\n",
    "epoch = 40\n",
    "\n",
    "loss_func = ClipPairWiseLoss()\n",
    "loss_func.to(device)\n",
    "pred_func = ClipPairWisePred()\n",
    "pred_func.to(device)\n",
    "optim = torch.optim.AdamW(net.parameters(), lr=lr)\n",
    "\n",
    "for e in range(epoch):\n",
    "    print(f'epoch {e}:')\n",
    "    running_loss = 0.0\n",
    "\n",
    "    # train\n",
    "    score_list = []\n",
    "    for batch_data in tqdm(train_dataloader):\n",
    "        loss_batch_list = []\n",
    "        score_batch_list = []\n",
    "\n",
    "        for clip_data in batch_data: #clip data\n",
    "\n",
    "            # read input data\n",
    "            clip_input, clip_gt_id, clip_shot_id, clip_scene_id = clip_data\n",
    "            clip_input.to(device)\n",
    "\n",
    "            optim.zero_grad()\n",
    "\n",
    "            clip_output = net(clip_input.to(device))\n",
    "            \n",
    "            # record loss\n",
    "            loss_clip = loss_func(clip_output, clip_gt_id)\n",
    "            loss_batch_list.append(loss_clip)\n",
    "            # record score\n",
    "            pred_list = pred_func(clip_output)\n",
    "            score = TripleLengthMatching(pred_list, clip_gt_id)\n",
    "            score_batch_list.append(score)\n",
    "        # calcuclate avearge loss\n",
    "        loss = sum(loss_batch_list) / len(loss_batch_list)\n",
    "        loss.backward()\n",
    "        optim.step()\n",
    "        # caculate avearge score\n",
    "        average_batch_score = sum(score_batch_list)/len(score_batch_list)\n",
    "        score_list.append(average_batch_score)\n",
    "\n",
    "    average_score = sum(score_list) / len(score_list)\n",
    "    print('train loss = ', loss.item(), 'train score = ', average_score)  \n",
    "\n",
    "    # val\n",
    "    score_list = []\n",
    "    for batch_data in tqdm(val_dataloader):\n",
    "        loss_batch_list = []\n",
    "        score_batch_list = []\n",
    "\n",
    "        for clip_data in batch_data:\n",
    "\n",
    "            # read input data\n",
    "            clip_input, clip_gt_id, clip_shot_id, clip_scene_id = clip_data\n",
    "            clip_output = net(clip_input.to(device))\n",
    "\n",
    "            # record loss\n",
    "            loss_clip = loss_func(clip_output, clip_gt_id)\n",
    "            loss_batch_list.append(loss_clip)\n",
    "            #record score\n",
    "            pred_list = pred_func(clip_output)\n",
    "            score = TripleLengthMatching(pred_list, clip_gt_id)\n",
    "            score_batch_list.append(score)\n",
    "\n",
    "        # calcuclate avearge loss\n",
    "        loss = sum(loss_batch_list) / len(loss_batch_list)\n",
    "        # cal avearage score\n",
    "        average_batch_score = sum(score_batch_list)/len(score_batch_list)\n",
    "        score_list.append(average_batch_score)\n",
    "    average_score = sum(score_list) / len(score_list)\n",
    "    print('val loss = ', average_score, 'val score = ', average_score) \n"
   ]
  },
  {
   "cell_type": "code",
   "execution_count": null,
   "metadata": {},
   "outputs": [],
   "source": []
  },
  {
   "cell_type": "code",
   "execution_count": 2,
   "metadata": {},
   "outputs": [],
   "source": [
    "Pred = [0, 1, 3, 2]\n",
    "GT = [0, 1, 2, 3]"
   ]
  },
  {
   "cell_type": "code",
   "execution_count": 5,
   "metadata": {},
   "outputs": [
    {
     "data": {
      "text/plain": [
       "([(0, 1, 3), (0, 1, 2), (0, 3, 2), (1, 3, 2)],\n",
       " [(0, 1, 2), (0, 1, 3), (0, 2, 3), (1, 2, 3)])"
      ]
     },
     "execution_count": 5,
     "metadata": {},
     "output_type": "execute_result"
    }
   ],
   "source": [
    "Pred_Sublist = rSublist(Pred, 3)\n",
    "GT_Sublist = rSublist(GT, 3)\n",
    "Pred_Sublist, GT_Sublist"
   ]
  },
  {
   "cell_type": "code",
   "execution_count": 6,
   "metadata": {},
   "outputs": [
    {
     "data": {
      "text/plain": [
       "2"
      ]
     },
     "execution_count": 6,
     "metadata": {},
     "output_type": "execute_result"
    }
   ],
   "source": [
    "score_num = len(set(Pred_Sublist) & set(GT_Sublist))\n",
    "score_deno = len(Pred_Sublist)\n",
    "score_num, score_deno"
   ]
  }
 ],
 "metadata": {
  "kernelspec": {
   "display_name": "VU_ipy",
   "language": "python",
   "name": "python3"
  },
  "language_info": {
   "codemirror_mode": {
    "name": "ipython",
    "version": 3
   },
   "file_extension": ".py",
   "mimetype": "text/x-python",
   "name": "python",
   "nbconvert_exporter": "python",
   "pygments_lexer": "ipython3",
   "version": "3.10.6"
  },
  "orig_nbformat": 4,
  "vscode": {
   "interpreter": {
    "hash": "8ccc6d80109d080f1019495c65bf46629c28f35c0a7d27f040aac1d408f9814c"
   }
  }
 },
 "nbformat": 4,
 "nbformat_minor": 2
}

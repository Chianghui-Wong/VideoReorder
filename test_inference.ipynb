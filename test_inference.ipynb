{
 "cells": [
  {
   "cell_type": "code",
   "execution_count": 1,
   "metadata": {},
   "outputs": [],
   "source": [
    "import numpy as np\n",
    "import torch\n",
    "import cv2\n",
    "import json\n",
    "from pathlib import Path\n",
    "from PIL import Image\n",
    "from typing import Any, Callable, Dict, List, Optional, Tuple, cast\n",
    "import os\n",
    "import random\n",
    "from utils import *\n",
    "import requests\n",
    "from torch.utils.data import DataLoader, Dataset\n",
    "from tqdm import tqdm\n",
    "from torch import nn\n",
    "import time\n",
    "import wandb\n",
    "from scipy.special import comb, perm\n",
    "import copy\n",
    "import itertools\n",
    "device = torch.device('cuda' if torch.cuda.is_available() else 'cpu')"
   ]
  },
  {
   "cell_type": "code",
   "execution_count": 2,
   "metadata": {},
   "outputs": [],
   "source": [
    "# read inference data\n",
    "data_path = '/home/jianghui/dataset/VideoReorder-MovieNet'\n",
    "split = 'val'\n",
    "val_data = VideoReorderMovieNetDataFolder(root=data_path, split=split, layer='')\n",
    "val_dataloader = torch.utils.data.DataLoader(val_data, batch_size=1, shuffle=False, num_workers=8, pin_memory=True, collate_fn=lambda x: x)"
   ]
  },
  {
   "cell_type": "code",
   "execution_count": 3,
   "metadata": {},
   "outputs": [
    {
     "data": {
      "text/plain": [
       "CrossEntropyLoss()"
      ]
     },
     "execution_count": 3,
     "metadata": {},
     "output_type": "execute_result"
    }
   ],
   "source": [
    "loss_func = nn.CrossEntropyLoss()\n",
    "loss_func.to(device)"
   ]
  },
  {
   "cell_type": "code",
   "execution_count": 4,
   "metadata": {},
   "outputs": [
    {
     "data": {
      "text/plain": [
       "Sequential(\n",
       "  (0): Flatten(start_dim=1, end_dim=-1)\n",
       "  (1): Linear(in_features=2048, out_features=1024, bias=True)\n",
       "  (2): ReLU()\n",
       "  (3): Linear(in_features=1024, out_features=512, bias=True)\n",
       "  (4): ReLU()\n",
       "  (5): Linear(in_features=512, out_features=2, bias=True)\n",
       ")"
      ]
     },
     "execution_count": 4,
     "metadata": {},
     "output_type": "execute_result"
    }
   ],
   "source": [
    "# scene order on clip model\n",
    "scene_model = nn.Sequential(\n",
    "    nn.Flatten(),\n",
    "    nn.Linear(2048, 1024),\n",
    "    nn.ReLU(),\n",
    "    nn.Linear(1024, 512),\n",
    "    nn.ReLU(),\n",
    "    nn.Linear(512,2)\n",
    ")\n",
    "checkpoint = torch.load(Path('./checkpoint', f'scene_to_clip_best_2023-02-23_01.pth'))\n",
    "scene_model.load_state_dict(checkpoint)\n",
    "scene_model.to(device)\n",
    "scene_model.eval()"
   ]
  },
  {
   "cell_type": "code",
   "execution_count": 5,
   "metadata": {},
   "outputs": [
    {
     "data": {
      "text/plain": [
       "Sequential(\n",
       "  (0): Flatten(start_dim=1, end_dim=-1)\n",
       "  (1): Linear(in_features=2048, out_features=1024, bias=True)\n",
       "  (2): ReLU()\n",
       "  (3): Linear(in_features=1024, out_features=512, bias=True)\n",
       "  (4): ReLU()\n",
       "  (5): Linear(in_features=512, out_features=2, bias=True)\n",
       ")"
      ]
     },
     "execution_count": 5,
     "metadata": {},
     "output_type": "execute_result"
    }
   ],
   "source": [
    "# shot order on scene model\n",
    "shot_model = nn.Sequential(\n",
    "    nn.Flatten(),\n",
    "    nn.Linear(2048, 1024),\n",
    "    nn.ReLU(),\n",
    "    nn.Linear(1024, 512),\n",
    "    nn.ReLU(),\n",
    "    nn.Linear(512,2)\n",
    ")\n",
    "checkpoint = torch.load(Path('./checkpoint', f'frame_to_scene_best_2023-02-22_01.pth'))\n",
    "shot_model.load_state_dict(checkpoint)\n",
    "shot_model.to(device)\n",
    "shot_model.eval()"
   ]
  },
  {
   "cell_type": "code",
   "execution_count": 6,
   "metadata": {},
   "outputs": [
    {
     "data": {
      "text/plain": [
       "Sequential(\n",
       "  (0): Flatten(start_dim=1, end_dim=-1)\n",
       "  (1): Linear(in_features=2048, out_features=1024, bias=True)\n",
       "  (2): ReLU()\n",
       "  (3): Linear(in_features=1024, out_features=512, bias=True)\n",
       "  (4): ReLU()\n",
       "  (5): Linear(in_features=512, out_features=2, bias=True)\n",
       ")"
      ]
     },
     "execution_count": 6,
     "metadata": {},
     "output_type": "execute_result"
    }
   ],
   "source": [
    "# frame order on shot model\n",
    "frame_model = nn.Sequential(\n",
    "    nn.Flatten(),\n",
    "    nn.Linear(2048, 1024),\n",
    "    nn.ReLU(),\n",
    "    nn.Linear(1024, 512),\n",
    "    nn.ReLU(),\n",
    "    nn.Linear(512,2)\n",
    ")\n",
    "checkpoint = torch.load(Path('./checkpoint', f'frame_to_shot_best_2023-02-22_01.pth'))\n",
    "frame_model.load_state_dict(checkpoint)\n",
    "frame_model.to(device)\n",
    "frame_model.eval()"
   ]
  },
  {
   "cell_type": "code",
   "execution_count": 9,
   "metadata": {},
   "outputs": [
    {
     "name": "stderr",
     "output_type": "stream",
     "text": [
      "100%|██████████| 589/589 [00:16<00:00, 35.99it/s]"
     ]
    },
    {
     "name": "stdout",
     "output_type": "stream",
     "text": [
      "total score is 0.49333220122812055\n"
     ]
    },
    {
     "name": "stderr",
     "output_type": "stream",
     "text": [
      "\n"
     ]
    },
    {
     "ename": "KeyError",
     "evalue": "'scene_cluster_1'",
     "output_type": "error",
     "traceback": [
      "\u001b[0;31m---------------------------------------------------------------------------\u001b[0m",
      "\u001b[0;31mKeyError\u001b[0m                                  Traceback (most recent call last)",
      "Cell \u001b[0;32mIn[9], line 123\u001b[0m\n\u001b[1;32m    120\u001b[0m     score_dict[\u001b[39m'\u001b[39m\u001b[39mtotal_score\u001b[39m\u001b[39m'\u001b[39m]\u001b[39m.\u001b[39mappend(score)\n\u001b[1;32m    122\u001b[0m \u001b[39mprint\u001b[39m(\u001b[39m'\u001b[39m\u001b[39mtotal score is\u001b[39m\u001b[39m'\u001b[39m ,\u001b[39msum\u001b[39m(score_dict[\u001b[39m'\u001b[39m\u001b[39mtotal_score\u001b[39m\u001b[39m'\u001b[39m]) \u001b[39m/\u001b[39m \u001b[39mlen\u001b[39m(score_dict[\u001b[39m'\u001b[39m\u001b[39mtotal_score\u001b[39m\u001b[39m'\u001b[39m]))\n\u001b[0;32m--> 123\u001b[0m \u001b[39mprint\u001b[39m(\u001b[39m'\u001b[39m\u001b[39mscene cluster score 1 is\u001b[39m\u001b[39m'\u001b[39m ,\u001b[39msum\u001b[39m(score_dict[\u001b[39m'\u001b[39;49m\u001b[39mscene_cluster_1\u001b[39;49m\u001b[39m'\u001b[39;49m]) \u001b[39m/\u001b[39m \u001b[39mlen\u001b[39m(score_dict[\u001b[39m'\u001b[39m\u001b[39mscene_cluster_1\u001b[39m\u001b[39m'\u001b[39m]))\n\u001b[1;32m    124\u001b[0m \u001b[39mprint\u001b[39m(\u001b[39m'\u001b[39m\u001b[39mscene cluster score 2 is\u001b[39m\u001b[39m'\u001b[39m ,\u001b[39msum\u001b[39m(score_dict[\u001b[39m'\u001b[39m\u001b[39mscene_cluster_2\u001b[39m\u001b[39m'\u001b[39m]) \u001b[39m/\u001b[39m \u001b[39mlen\u001b[39m(score_dict[\u001b[39m'\u001b[39m\u001b[39mscene_cluster_2\u001b[39m\u001b[39m'\u001b[39m]))\n",
      "\u001b[0;31mKeyError\u001b[0m: 'scene_cluster_1'"
     ]
    }
   ],
   "source": [
    "DEBUG = True\n",
    "score_dict = {\n",
    "    'total_score' : [],\n",
    "    'scene_cluster_score_1' : [],\n",
    "    'scene_cluster_score_2' : []\n",
    "}\n",
    "\n",
    "for data in tqdm(val_dataloader):\n",
    "    # load data\n",
    "    features, gt_id, shot_id, scene_id = data[0]\n",
    "    input_id = [i for i in range(len(gt_id))]\n",
    "\n",
    "    # scene cluster\n",
    "    gt_scene_clustered = frame2scene(gt_id, scene_id)\n",
    "    features, input_id = KMeanCLustering(features=features, input_id=input_id, gt_clusters=gt_scene_clustered,layer='scene')\n",
    "\n",
    "    scene_cluster_score_1 = KMeanAcc(input_id, gt_scene_clustered, layer='scene')\n",
    "    score_dict['scene_cluster_score_1'].append(scene_cluster_score_1)\n",
    "\n",
    "    pred = list_to_one_dim(input_id)\n",
    "    assert(len(pred) == len(gt_id))\n",
    "\n",
    "    # scene reorder\n",
    "    N_scene = len(gt_scene_clustered)\n",
    "    features_scene = [torch.mean(torch.stack(i, dim=0), dim=0) for i in features]\n",
    "    score_square = [[float('-inf') for i in range(N_scene)]for i in range(N_scene)]\n",
    "\n",
    "    for I in range(N_scene):\n",
    "        for J in range(N_scene):\n",
    "            if I == J: continue\n",
    "            output = scene_model(torch.concat((features_scene[I], features_scene[J])).unsqueeze(0).to(device))\n",
    "            score_square[I][J] = torch_to_list(output[0][1]-output[0][0])\n",
    "    \n",
    "    scene_order = beam_search_all(score_square)['path']\n",
    "\n",
    "    input_id = same_shuffle(input_id, scene_order)\n",
    "    features = same_shuffle(features, scene_order)\n",
    "\n",
    "    scene_cluster_score_2 = KMeanAcc(input_id, gt_scene_clustered, layer='scene')\n",
    "    score_dict['scene_cluster_score_2'].append(scene_cluster_score_2)\n",
    "\n",
    "    pred = list_to_one_dim(input_id)\n",
    "    assert(len(pred) == len(gt_id))\n",
    "\n",
    "    # shot cluster\n",
    "    gt_shot_clustered = frame2all(gt_id, shot_id, scene_id)\n",
    "    features, input_id = KMeanCLustering(features=features, input_id=input_id, gt_clusters=gt_shot_clustered,layer='shot')\n",
    "\n",
    "    pred = list_to_one_dim(input_id)\n",
    "    assert(len(pred) == len(gt_id))\n",
    "\n",
    "    N_scene = len(features)\n",
    "    idx = 0\n",
    "    while idx < N_scene:\n",
    "        N_shot = len(input_id[idx])\n",
    "        jdx = 0\n",
    "        while jdx < N_shot:\n",
    "            if input_id[idx][jdx] == []:\n",
    "                input_id[idx].pop(jdx)\n",
    "                features[idx].pop(jdx)\n",
    "                jdx -= 1\n",
    "                N_shot -= 1\n",
    "            jdx += 1\n",
    "        if input_id[idx] in [[], [[]]]:\n",
    "            input_id.pop(idx)\n",
    "            features.pop(idx)\n",
    "        idx += 1\n",
    "\n",
    "    # shot reorder \n",
    "    N_scene = len(features)\n",
    "    for idx in range(N_scene):\n",
    "        N_shot = len(input_id[idx])\n",
    "        try:\n",
    "            features_shot = [torch.mean(torch.stack(i, dim=0), dim=0) for i in features[idx]]\n",
    "        except:\n",
    "            print(input_id)\n",
    "            print(gt_shot_clustered)\n",
    "            assert False\n",
    "\n",
    "        score_square = [[float('-inf') for i in range(N_shot)]for i in range(N_shot)]\n",
    "\n",
    "        for I in range(N_shot):\n",
    "            for J in range(N_shot):\n",
    "                if I == J: continue\n",
    "                output = shot_model(torch.concat((features_shot[I], features_shot[J])).unsqueeze(0).to(device))\n",
    "                score_square[I][J] = torch_to_list(output[0][1]-output[0][0])   \n",
    "\n",
    "        shot_order = beam_search_all(score_square)['path']\n",
    "\n",
    "        features[idx] = same_shuffle(features[idx], shot_order)\n",
    "        input_id[idx] = same_shuffle(input_id[idx], shot_order)\n",
    "\n",
    "    pred = list_to_one_dim(input_id)\n",
    "    assert(len(pred) == len(gt_id))\n",
    "\n",
    "    # frame reorder\n",
    "    N_scene = len(input_id)\n",
    "    for idx in range(N_scene):\n",
    "        N_shot = len(input_id[idx])\n",
    "        for jdx in range(N_shot):\n",
    "            N_frame = len(input_id[idx][jdx])\n",
    "            features_frame = features[idx][jdx]\n",
    "            score_square = [[float('-inf') for i in range(N_frame)]for i in range(N_frame)]\n",
    "\n",
    "            for I in range(N_frame):\n",
    "                for J in range(N_frame):\n",
    "                    if I == J: continue\n",
    "                    output = frame_model(torch.concat((features_frame[I], features_frame[J])).unsqueeze(0).to(device))\n",
    "                    score_square[I][J] = torch_to_list(output[0][1]-output[0][0])\n",
    "\n",
    "            frame_order = beam_search_all(score_square)['path']\n",
    "\n",
    "            features[idx][jdx] = same_shuffle(features[idx][jdx], frame_order)\n",
    "            input_id[idx][jdx] = same_shuffle(input_id[idx][jdx], frame_order)\n",
    "\n",
    "    pred = list_to_one_dim(input_id)\n",
    "    assert(len(pred) == len(gt_id))\n",
    "\n",
    "    score = DoubleLengthMatching(pred, gt_id)\n",
    "    score_dict['total_score'].append(score)\n",
    "\n",
    "print('total score is' ,sum(score_dict['total_score']) / len(score_dict['total_score']))\n",
    "print('scene cluster score 1 is' ,sum(score_dict['scene_cluster_1']) / len(score_dict['scene_cluster_1']))\n",
    "print('scene cluster score 2 is' ,sum(score_dict['scene_cluster_2']) / len(score_dict['scene_cluster_2']))"
   ]
  },
  {
   "cell_type": "code",
   "execution_count": 10,
   "metadata": {},
   "outputs": [
    {
     "name": "stdout",
     "output_type": "stream",
     "text": [
      "scene cluster score 1 is 0.797818365456686\n",
      "scene cluster score 2 is 0.7895365638112567\n"
     ]
    }
   ],
   "source": [
    "print('scene cluster score 1 is' ,sum(score_dict['scene_cluster_score_1']) / len(score_dict['scene_cluster_score_1']))\n",
    "print('scene cluster score 2 is' ,sum(score_dict['scene_cluster_score_2']) / len(score_dict['scene_cluster_score_2']))"
   ]
  }
 ],
 "metadata": {
  "kernelspec": {
   "display_name": "VU_ipy",
   "language": "python",
   "name": "python3"
  },
  "language_info": {
   "codemirror_mode": {
    "name": "ipython",
    "version": 3
   },
   "file_extension": ".py",
   "mimetype": "text/x-python",
   "name": "python",
   "nbconvert_exporter": "python",
   "pygments_lexer": "ipython3",
   "version": "3.10.6"
  },
  "orig_nbformat": 4,
  "vscode": {
   "interpreter": {
    "hash": "8ccc6d80109d080f1019495c65bf46629c28f35c0a7d27f040aac1d408f9814c"
   }
  }
 },
 "nbformat": 4,
 "nbformat_minor": 2
}

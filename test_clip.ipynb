{
 "cells": [
  {
   "cell_type": "code",
   "execution_count": 1,
   "metadata": {},
   "outputs": [],
   "source": [
    "import numpy as np\n",
    "import torch\n",
    "import cv2\n",
    "import json\n",
    "from pathlib import Path\n",
    "from PIL import Image\n",
    "from typing import Any, Callable, Dict, List, Optional, Tuple, cast\n",
    "import os\n",
    "import random\n",
    "from utils import *\n",
    "import requests\n",
    "from transformers import CLIPProcessor, CLIPModel, AutoProcessor, AutoTokenizer\n",
    "from torch.utils.data import DataLoader, Dataset\n",
    "from tqdm import tqdm\n",
    "from torch import nn"
   ]
  },
  {
   "cell_type": "code",
   "execution_count": 2,
   "metadata": {},
   "outputs": [],
   "source": [
    "device = torch.device('cuda' if torch.cuda.is_available() else 'cpu')\n",
    "os.environ['TOKENIZERS_PARALLELISM'] = 'true'"
   ]
  },
  {
   "cell_type": "code",
   "execution_count": 3,
   "metadata": {},
   "outputs": [],
   "source": [
    "data_path = '/home/jianghui/dataset/VideoReorder-MovieNet'\n",
    "split = 'train'\n",
    "train_data = VideoReorderMovieNetDataFolder(root=data_path, split=split)\n",
    "train_dataloader = torch.utils.data.DataLoader(train_data, batch_size=128, shuffle=(split == 'train'), num_workers=8, pin_memory=True, collate_fn=lambda x: x)\n",
    "\n",
    "split = 'val'\n",
    "val_data = VideoReorderMovieNetDataFolder(root=data_path, split=split)\n",
    "val_dataloader = torch.utils.data.DataLoader(val_data, batch_size=128, shuffle=(split == 'train'), num_workers=8, pin_memory=True, collate_fn=lambda x: x)"
   ]
  },
  {
   "cell_type": "code",
   "execution_count": 4,
   "metadata": {},
   "outputs": [
    {
     "data": {
      "text/plain": [
       "Sequential(\n",
       "  (0): Flatten(start_dim=1, end_dim=-1)\n",
       "  (1): Linear(in_features=1024, out_features=1024, bias=True)\n",
       "  (2): ReLU()\n",
       "  (3): Linear(in_features=1024, out_features=512, bias=True)\n",
       ")"
      ]
     },
     "execution_count": 4,
     "metadata": {},
     "output_type": "execute_result"
    }
   ],
   "source": [
    "net = nn.Sequential(\n",
    "    nn.Flatten(),\n",
    "    nn.Linear(1024, 1024),\n",
    "    nn.ReLU(),\n",
    "    nn.Linear(1024, 512)\n",
    ")\n",
    "\n",
    "def init_weights(m):\n",
    "    if type(m) == nn.Linear:\n",
    "        nn.init.normal_(m.weight, std=0.01)\n",
    "\n",
    "net.apply(init_weights)\n",
    "net.to(device)"
   ]
  },
  {
   "cell_type": "code",
   "execution_count": 5,
   "metadata": {},
   "outputs": [
    {
     "name": "stdout",
     "output_type": "stream",
     "text": [
      "epoch 0:\n"
     ]
    },
    {
     "name": "stderr",
     "output_type": "stream",
     "text": [
      "100%|██████████| 56/56 [02:25<00:00,  2.61s/it]\n"
     ]
    },
    {
     "name": "stdout",
     "output_type": "stream",
     "text": [
      "train loss =  0.001221206272020936 train score =  0.5010716027460849\n"
     ]
    },
    {
     "name": "stderr",
     "output_type": "stream",
     "text": [
      "100%|██████████| 5/5 [00:07<00:00,  1.52s/it]\n"
     ]
    },
    {
     "name": "stdout",
     "output_type": "stream",
     "text": [
      "val loss =  0.0020686599891632795 val score =  0.5056603271104285\n",
      "epoch 1:\n"
     ]
    },
    {
     "name": "stderr",
     "output_type": "stream",
     "text": [
      "100%|██████████| 56/56 [02:31<00:00,  2.70s/it]\n"
     ]
    },
    {
     "name": "stdout",
     "output_type": "stream",
     "text": [
      "train loss =  9.351068729301915e-05 train score =  0.5006146899230474\n"
     ]
    },
    {
     "name": "stderr",
     "output_type": "stream",
     "text": [
      "100%|██████████| 5/5 [00:07<00:00,  1.55s/it]\n"
     ]
    },
    {
     "name": "stdout",
     "output_type": "stream",
     "text": [
      "val loss =  0.0007488965638913214 val score =  0.502397060811776\n",
      "epoch 2:\n"
     ]
    },
    {
     "name": "stderr",
     "output_type": "stream",
     "text": [
      "100%|██████████| 56/56 [02:59<00:00,  3.20s/it]\n"
     ]
    },
    {
     "name": "stdout",
     "output_type": "stream",
     "text": [
      "train loss =  0.0 train score =  0.500019162340784\n"
     ]
    },
    {
     "name": "stderr",
     "output_type": "stream",
     "text": [
      "100%|██████████| 5/5 [00:10<00:00,  2.02s/it]\n"
     ]
    },
    {
     "name": "stdout",
     "output_type": "stream",
     "text": [
      "val loss =  0.0006653349264524877 val score =  0.5070711575260924\n",
      "epoch 3:\n"
     ]
    },
    {
     "name": "stderr",
     "output_type": "stream",
     "text": [
      "100%|██████████| 56/56 [02:59<00:00,  3.21s/it]\n"
     ]
    },
    {
     "name": "stdout",
     "output_type": "stream",
     "text": [
      "train loss =  0.0 train score =  0.5000512651720045\n"
     ]
    },
    {
     "name": "stderr",
     "output_type": "stream",
     "text": [
      "100%|██████████| 5/5 [00:10<00:00,  2.00s/it]\n"
     ]
    },
    {
     "name": "stdout",
     "output_type": "stream",
     "text": [
      "val loss =  0.0006559159373864532 val score =  0.5070711575260924\n",
      "epoch 4:\n"
     ]
    },
    {
     "name": "stderr",
     "output_type": "stream",
     "text": [
      "100%|██████████| 56/56 [03:00<00:00,  3.22s/it]\n"
     ]
    },
    {
     "name": "stdout",
     "output_type": "stream",
     "text": [
      "train loss =  0.0 train score =  0.5002365779551153\n"
     ]
    },
    {
     "name": "stderr",
     "output_type": "stream",
     "text": [
      "100%|██████████| 5/5 [00:10<00:00,  2.02s/it]\n"
     ]
    },
    {
     "name": "stdout",
     "output_type": "stream",
     "text": [
      "val loss =  0.0006464524776674807 val score =  0.5070711575260924\n",
      "epoch 5:\n"
     ]
    },
    {
     "name": "stderr",
     "output_type": "stream",
     "text": [
      "100%|██████████| 56/56 [02:58<00:00,  3.19s/it]\n"
     ]
    },
    {
     "name": "stdout",
     "output_type": "stream",
     "text": [
      "train loss =  0.0 train score =  0.5003982373332599\n"
     ]
    },
    {
     "name": "stderr",
     "output_type": "stream",
     "text": [
      "100%|██████████| 5/5 [00:10<00:00,  2.03s/it]\n"
     ]
    },
    {
     "name": "stdout",
     "output_type": "stream",
     "text": [
      "val loss =  0.0006373508949764073 val score =  0.5070711575260924\n",
      "epoch 6:\n"
     ]
    },
    {
     "name": "stderr",
     "output_type": "stream",
     "text": [
      "100%|██████████| 56/56 [03:04<00:00,  3.29s/it]\n"
     ]
    },
    {
     "name": "stdout",
     "output_type": "stream",
     "text": [
      "train loss =  0.0 train score =  0.5001207926222572\n"
     ]
    },
    {
     "name": "stderr",
     "output_type": "stream",
     "text": [
      "100%|██████████| 5/5 [00:10<00:00,  2.02s/it]\n"
     ]
    },
    {
     "name": "stdout",
     "output_type": "stream",
     "text": [
      "val loss =  0.0006282954127527773 val score =  0.5070711575260924\n",
      "epoch 7:\n"
     ]
    },
    {
     "name": "stderr",
     "output_type": "stream",
     "text": [
      "  2%|▏         | 1/56 [00:04<04:20,  4.73s/it]"
     ]
    }
   ],
   "source": [
    "# Loss 1\n",
    "lr = 1e-4\n",
    "epoch = 40\n",
    "\n",
    "loss_func = ClipPairWiseLoss()\n",
    "loss_func.to(device)\n",
    "pred_func = ClipPairWisePred()\n",
    "pred_func.to(device)\n",
    "optim = torch.optim.AdamW(net.parameters(), lr=lr)\n",
    "\n",
    "for e in range(epoch):\n",
    "    print(f'epoch {e}:')\n",
    "    running_loss = 0.0\n",
    "\n",
    "    # train\n",
    "    score_list = []\n",
    "    \n",
    "    for batch_data in tqdm(train_dataloader):\n",
    "        loss_batch_list = []\n",
    "        score_batch_list = []\n",
    "\n",
    "        for clip_data in batch_data: #clip data\n",
    "\n",
    "            # read input data\n",
    "            clip_input, clip_gt_id, clip_shot_id, clip_scene_id = clip_data\n",
    "            clip_input.to(device)\n",
    "\n",
    "            optim.zero_grad()\n",
    "\n",
    "            clip_output = net(clip_input.to(device))\n",
    "            \n",
    "            # record loss\n",
    "            loss_clip = loss_func(clip_output, clip_gt_id)\n",
    "            loss_batch_list.append(loss_clip)\n",
    "            # record score\n",
    "            pred_list = pred_func(clip_output)\n",
    "            # score = TripleLengthMatching(pred_list, clip_gt_id)\n",
    "            score = DoubleLengthMatching(pred_list, clip_gt_id)\n",
    "            score_batch_list.append(score)\n",
    "            print(pred_list, clip_gt_id, score, loss_clip.item())\n",
    "            # calcuclate avearge loss\n",
    "            loss_clip.backward()\n",
    "            optim.step()\n",
    "        # caculate avearge score\n",
    "        average_batch_score = sum(score_batch_list)/len(score_batch_list)\n",
    "        score_list.append(average_batch_score)\n",
    "\n",
    "    loss = sum(loss_batch_list) / len(loss_batch_list)\n",
    "    average_score = sum(score_list) / len(score_list)\n",
    "    print('train loss = ', loss.item(), 'train score = ', average_score)  \n",
    "\n",
    "    # val\n",
    "    score_list = []\n",
    "    for batch_data in tqdm(val_dataloader):\n",
    "        loss_batch_list = []\n",
    "        score_batch_list = []\n",
    "\n",
    "        for clip_data in batch_data:\n",
    "\n",
    "            # read input data\n",
    "            clip_input, clip_gt_id, clip_shot_id, clip_scene_id = clip_data\n",
    "            clip_output = net(clip_input.to(device))\n",
    "\n",
    "            # record loss\n",
    "            loss_clip = loss_func(clip_output, clip_gt_id)\n",
    "            loss_batch_list.append(loss_clip)\n",
    "            #record score\n",
    "            pred_list = pred_func(clip_output)\n",
    "            # score = TripleLengthMatching(pred_list, clip_gt_id)\n",
    "            score = DoubleLengthMatching(pred_list, clip_gt_id)\n",
    "            score_batch_list.append(score)\n",
    "\n",
    "        # calcuclate avearge loss\n",
    "        loss = sum(loss_batch_list) / len(loss_batch_list)\n",
    "        # cal avearage score\n",
    "        average_batch_score = sum(score_batch_list)/len(score_batch_list)\n",
    "        score_list.append(average_batch_score)\n",
    "    average_score = sum(score_list) / len(score_list)\n",
    "    print('val loss = ', loss.item(), 'val score = ', average_score) \n"
   ]
  }
 ],
 "metadata": {
  "kernelspec": {
   "display_name": "VU_ipy",
   "language": "python",
   "name": "python3"
  },
  "language_info": {
   "codemirror_mode": {
    "name": "ipython",
    "version": 3
   },
   "file_extension": ".py",
   "mimetype": "text/x-python",
   "name": "python",
   "nbconvert_exporter": "python",
   "pygments_lexer": "ipython3",
   "version": "3.10.6"
  },
  "orig_nbformat": 4,
  "vscode": {
   "interpreter": {
    "hash": "8ccc6d80109d080f1019495c65bf46629c28f35c0a7d27f040aac1d408f9814c"
   }
  }
 },
 "nbformat": 4,
 "nbformat_minor": 2
}

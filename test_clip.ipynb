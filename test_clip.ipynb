{
 "cells": [
  {
   "cell_type": "code",
   "execution_count": 6,
   "metadata": {},
   "outputs": [],
   "source": [
    "import numpy as np\n",
    "import torch\n",
    "import cv2\n",
    "import json\n",
    "from pathlib import Path\n",
    "from PIL import Image\n",
    "from typing import Any, Callable, Dict, List, Optional, Tuple, cast\n",
    "import os\n",
    "import random\n",
    "from utils import *\n",
    "import requests\n",
    "from transformers import CLIPProcessor, CLIPModel, AutoProcessor, AutoTokenizer\n",
    "from torch.utils.data import DataLoader, Dataset\n",
    "from tqdm import tqdm\n",
    "from torch import nn"
   ]
  },
  {
   "cell_type": "code",
   "execution_count": 7,
   "metadata": {},
   "outputs": [],
   "source": [
    "device = torch.device('cuda' if torch.cuda.is_available() else 'cpu')\n",
    "os.environ['TOKENIZERS_PARALLELISM'] = 'true'"
   ]
  },
  {
   "cell_type": "code",
   "execution_count": 8,
   "metadata": {},
   "outputs": [],
   "source": [
    "data_path = '/home/jianghui/dataset/VideoReorder-MovieNet'\n",
    "split = 'train'\n",
    "train_data = VideoReorderMovieNetDataFolder(root=data_path, split=split)\n",
    "train_dataloader = torch.utils.data.DataLoader(train_data, batch_size=128, shuffle=(split == 'train'), num_workers=8, pin_memory=True, collate_fn=lambda x: x)\n",
    "\n",
    "split = 'val'\n",
    "val_data = VideoReorderMovieNetDataFolder(root=data_path, split=split)\n",
    "val_dataloader = torch.utils.data.DataLoader(val_data, batch_size=128, shuffle=(split == 'train'), num_workers=8, pin_memory=True, collate_fn=lambda x: x)"
   ]
  },
  {
   "cell_type": "code",
   "execution_count": 9,
   "metadata": {},
   "outputs": [
    {
     "data": {
      "text/plain": [
       "Sequential(\n",
       "  (0): Flatten(start_dim=1, end_dim=-1)\n",
       "  (1): Linear(in_features=1024, out_features=1024, bias=True)\n",
       "  (2): ReLU()\n",
       "  (3): Linear(in_features=1024, out_features=512, bias=True)\n",
       ")"
      ]
     },
     "execution_count": 9,
     "metadata": {},
     "output_type": "execute_result"
    }
   ],
   "source": [
    "net = nn.Sequential(\n",
    "    nn.Flatten(),\n",
    "    nn.Linear(1024, 1024),\n",
    "    nn.ReLU(),\n",
    "    nn.Linear(1024, 512)\n",
    ")\n",
    "\n",
    "def init_weights(m):\n",
    "    if type(m) == nn.Linear:\n",
    "        nn.init.normal_(m.weight, std=0.01)\n",
    "\n",
    "net.apply(init_weights)\n",
    "net.to(device)"
   ]
  },
  {
   "cell_type": "code",
   "execution_count": 10,
   "metadata": {},
   "outputs": [
    {
     "name": "stdout",
     "output_type": "stream",
     "text": [
      "epoch 0:\n"
     ]
    },
    {
     "name": "stderr",
     "output_type": "stream",
     "text": [
      "  0%|          | 0/56 [00:01<?, ?it/s]"
     ]
    },
    {
     "name": "stdout",
     "output_type": "stream",
     "text": [
      "[8, 7, 4, 5, 6, 10, 9, 0, 2, 3, 1]\n"
     ]
    },
    {
     "name": "stderr",
     "output_type": "stream",
     "text": [
      "\n"
     ]
    },
    {
     "ename": "AssertionError",
     "evalue": "",
     "output_type": "error",
     "traceback": [
      "\u001b[0;31m---------------------------------------------------------------------------\u001b[0m",
      "\u001b[0;31mAssertionError\u001b[0m                            Traceback (most recent call last)",
      "Cell \u001b[0;32mIn[10], line 38\u001b[0m\n\u001b[1;32m     36\u001b[0m pred_list \u001b[39m=\u001b[39m pred_func(clip_output)\n\u001b[1;32m     37\u001b[0m \u001b[39mprint\u001b[39m(pred_list)\n\u001b[0;32m---> 38\u001b[0m \u001b[39massert\u001b[39;00m \u001b[39mFalse\u001b[39;00m\n\u001b[1;32m     39\u001b[0m \u001b[39m# score = TripleLengthMatching(pred_list, clip_gt_id)\u001b[39;00m\n\u001b[1;32m     40\u001b[0m score \u001b[39m=\u001b[39m DoubleLengthMatching(pred_list, clip_gt_id)\n",
      "\u001b[0;31mAssertionError\u001b[0m: "
     ]
    }
   ],
   "source": [
    "# Loss 1\n",
    "lr = 1e-4\n",
    "epoch = 40\n",
    "\n",
    "loss_func = ClipPairWiseLoss()\n",
    "loss_func.to(device)\n",
    "pred_func = ClipPairWisePred()\n",
    "pred_func.to(device)\n",
    "optim = torch.optim.AdamW(net.parameters(), lr=lr)\n",
    "\n",
    "for e in range(epoch):\n",
    "    print(f'epoch {e}:')\n",
    "    running_loss = 0.0\n",
    "\n",
    "    # train\n",
    "    score_list = []\n",
    "    \n",
    "    for batch_data in tqdm(train_dataloader):\n",
    "        loss_batch_list = []\n",
    "        score_batch_list = []\n",
    "\n",
    "        for clip_data in batch_data: #clip data\n",
    "\n",
    "            # read input data\n",
    "            clip_input, clip_gt_id, clip_shot_id, clip_scene_id = clip_data\n",
    "            clip_input.to(device)\n",
    "\n",
    "            optim.zero_grad()\n",
    "\n",
    "            clip_output = net(clip_input.to(device))\n",
    "            \n",
    "            # record loss\n",
    "            loss_clip = loss_func(clip_output, clip_gt_id)\n",
    "            loss_batch_list.append(loss_clip)\n",
    "            # record score\n",
    "            pred_list = pred_func(clip_output)\n",
    "            print(pred_list)\n",
    "            assert False\n",
    "            # score = TripleLengthMatching(pred_list, clip_gt_id)\n",
    "            score = DoubleLengthMatching(pred_list, clip_gt_id)\n",
    "            score_batch_list.append(score)\n",
    "            print(pred_list, clip_gt_id, score, loss_clip.item())\n",
    "            # calcuclate avearge loss\n",
    "            loss_clip.backward()\n",
    "            optim.step()\n",
    "        # caculate avearge score\n",
    "        average_batch_score = sum(score_batch_list)/len(score_batch_list)\n",
    "        score_list.append(average_batch_score)\n",
    "\n",
    "    loss = sum(loss_batch_list) / len(loss_batch_list)\n",
    "    average_score = sum(score_list) / len(score_list)\n",
    "    print('train loss = ', loss.item(), 'train score = ', average_score)  \n",
    "\n",
    "    # val\n",
    "    score_list = []\n",
    "    for batch_data in tqdm(val_dataloader):\n",
    "        loss_batch_list = []\n",
    "        score_batch_list = []\n",
    "\n",
    "        for clip_data in batch_data:\n",
    "\n",
    "            # read input data\n",
    "            clip_input, clip_gt_id, clip_shot_id, clip_scene_id = clip_data\n",
    "            clip_output = net(clip_input.to(device))\n",
    "\n",
    "            # record loss\n",
    "            loss_clip = loss_func(clip_output, clip_gt_id)\n",
    "            loss_batch_list.append(loss_clip)\n",
    "            #record score\n",
    "            pred_list = pred_func(clip_output)\n",
    "            # score = TripleLengthMatching(pred_list, clip_gt_id)\n",
    "            score = DoubleLengthMatching(pred_list, clip_gt_id)\n",
    "            score_batch_list.append(score)\n",
    "\n",
    "        # calcuclate avearge loss\n",
    "        loss = sum(loss_batch_list) / len(loss_batch_list)\n",
    "        # cal avearage score\n",
    "        average_batch_score = sum(score_batch_list)/len(score_batch_list)\n",
    "        score_list.append(average_batch_score)\n",
    "    average_score = sum(score_list) / len(score_list)\n",
    "    print('val loss = ', loss.item(), 'val score = ', average_score) \n"
   ]
  }
 ],
 "metadata": {
  "kernelspec": {
   "display_name": "VU_ipy",
   "language": "python",
   "name": "python3"
  },
  "language_info": {
   "codemirror_mode": {
    "name": "ipython",
    "version": 3
   },
   "file_extension": ".py",
   "mimetype": "text/x-python",
   "name": "python",
   "nbconvert_exporter": "python",
   "pygments_lexer": "ipython3",
   "version": "3.10.6"
  },
  "orig_nbformat": 4,
  "vscode": {
   "interpreter": {
    "hash": "8ccc6d80109d080f1019495c65bf46629c28f35c0a7d27f040aac1d408f9814c"
   }
  }
 },
 "nbformat": 4,
 "nbformat_minor": 2
}
